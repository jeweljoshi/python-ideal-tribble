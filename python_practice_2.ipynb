{
  "nbformat": 4,
  "nbformat_minor": 0,
  "metadata": {
    "colab": {
      "provenance": []
    },
    "kernelspec": {
      "name": "python3",
      "display_name": "Python 3"
    },
    "language_info": {
      "name": "python"
    }
  },
  "cells": [
    {
      "cell_type": "markdown",
      "source": [
        "1. Write a python program to find the largest of 3 numbers."
      ],
      "metadata": {
        "id": "gLmtYd4454Yh"
      }
    },
    {
      "cell_type": "code",
      "execution_count": null,
      "metadata": {
        "colab": {
          "base_uri": "https://localhost:8080/"
        },
        "id": "-Yg3XCHR5kP7",
        "outputId": "53d311c5-1e51-4284-adae-369683fb00d7"
      },
      "outputs": [
        {
          "output_type": "stream",
          "name": "stdout",
          "text": [
            "Enter first number: 99\n",
            "Enter second number: 0000\n",
            "Enter third number: 4599987\n",
            "The largest number is 4599987\n"
          ]
        }
      ],
      "source": [
        "num1 = int(input(\"Enter first number: \"))\n",
        "num2 = int(input(\"Enter second number: \"))\n",
        "num3 = int(input(\"Enter third number: \"))\n",
        "\n",
        "if num1 > num2 and num1 > num3:\n",
        "  print(\"The largest number is\", num1)\n",
        "elif num2 > num1 and num2 > num3:\n",
        "  print(\"The largest number is\", num2)\n",
        "else:\n",
        "  print(\"The largest number is\", num3)"
      ]
    },
    {
      "cell_type": "markdown",
      "source": [
        "2. Write a python program to find the numbers divisible by 3 and 7 from 100 to 800."
      ],
      "metadata": {
        "id": "9wD3LWcd6bQy"
      }
    },
    {
      "cell_type": "code",
      "source": [
        "for num in range(100, 801):\n",
        "  if num % 3 == 0 and num % 7 == 0:\n",
        "    print(num)"
      ],
      "metadata": {
        "colab": {
          "base_uri": "https://localhost:8080/"
        },
        "id": "NhKDSTur6cna",
        "outputId": "f7b247ac-535d-4d63-d20b-531b9858e01c"
      },
      "execution_count": null,
      "outputs": [
        {
          "output_type": "stream",
          "name": "stdout",
          "text": [
            "105\n",
            "126\n",
            "147\n",
            "168\n",
            "189\n",
            "210\n",
            "231\n",
            "252\n",
            "273\n",
            "294\n",
            "315\n",
            "336\n",
            "357\n",
            "378\n",
            "399\n",
            "420\n",
            "441\n",
            "462\n",
            "483\n",
            "504\n",
            "525\n",
            "546\n",
            "567\n",
            "588\n",
            "609\n",
            "630\n",
            "651\n",
            "672\n",
            "693\n",
            "714\n",
            "735\n",
            "756\n",
            "777\n",
            "798\n"
          ]
        }
      ]
    },
    {
      "cell_type": "code",
      "source": [
        "num = 100\n",
        "while num <= 800:\n",
        "  if num % 3 == 0 and num % 7 == 0:\n",
        "    print(num)\n",
        "  num += 1"
      ],
      "metadata": {
        "colab": {
          "base_uri": "https://localhost:8080/"
        },
        "id": "hi77nHvA7H6v",
        "outputId": "47210d9c-9daf-44f6-d370-f82ab87ab8b9"
      },
      "execution_count": null,
      "outputs": [
        {
          "output_type": "stream",
          "name": "stdout",
          "text": [
            "105\n",
            "126\n",
            "147\n",
            "168\n",
            "189\n",
            "210\n",
            "231\n",
            "252\n",
            "273\n",
            "294\n",
            "315\n",
            "336\n",
            "357\n",
            "378\n",
            "399\n",
            "420\n",
            "441\n",
            "462\n",
            "483\n",
            "504\n",
            "525\n",
            "546\n",
            "567\n",
            "588\n",
            "609\n",
            "630\n",
            "651\n",
            "672\n",
            "693\n",
            "714\n",
            "735\n",
            "756\n",
            "777\n",
            "798\n"
          ]
        }
      ]
    },
    {
      "cell_type": "markdown",
      "source": [
        "3. Write a python program to find the count of numbers divisible by 8 from 1 to 1000."
      ],
      "metadata": {
        "id": "3RuaK8Yt8Siq"
      }
    },
    {
      "cell_type": "code",
      "source": [
        "count = 0\n",
        "for num in range(1, 1001):\n",
        "  if num % 8 == 0:\n",
        "    count += 1\n",
        "print(\"The count of numbers divisible by 8 is\", count)"
      ],
      "metadata": {
        "colab": {
          "base_uri": "https://localhost:8080/"
        },
        "id": "utXU4Vds8kh1",
        "outputId": "31cf9101-038d-4b2f-8df2-efa8968973de"
      },
      "execution_count": 42,
      "outputs": [
        {
          "output_type": "stream",
          "name": "stdout",
          "text": [
            "The count of numbers divisible by 8 is 125\n"
          ]
        }
      ]
    },
    {
      "cell_type": "markdown",
      "source": [
        "4. Write a Python program to construct the following pattern, using a\n",
        "nested for loop.\n",
        "######*\n",
        "######**\n",
        "######***\n",
        "######****\n",
        "######*****\n",
        "######****\n",
        "######***\n",
        "######**\n",
        "######*"
      ],
      "metadata": {
        "id": "wmRbdUosBx1Q"
      }
    },
    {
      "cell_type": "code",
      "source": [
        "for i in range(1, 6):\n",
        "    for j in range(i):\n",
        "        print('*', end='')\n",
        "    print('')\n",
        "\n",
        "for i in range(4, 0, -1):\n",
        "    for j in range(i):\n",
        "        print('*', end='')\n",
        "    print('')"
      ],
      "metadata": {
        "colab": {
          "base_uri": "https://localhost:8080/"
        },
        "id": "L0ztTN2hCRqx",
        "outputId": "2746d7fd-b84e-473b-a26b-10572adc2752"
      },
      "execution_count": 35,
      "outputs": [
        {
          "output_type": "stream",
          "name": "stdout",
          "text": [
            "*\n",
            "**\n",
            "***\n",
            "****\n",
            "*****\n",
            "****\n",
            "***\n",
            "**\n",
            "*\n"
          ]
        }
      ]
    },
    {
      "cell_type": "markdown",
      "source": [
        "5. Write a Python program to reverse a list using a for loop.\n",
        "\n",
        "Sample input: 10,40,30,70\n",
        "\n",
        "Sample output: 70,30,40,10\n"
      ],
      "metadata": {
        "id": "_8PyVYJYCc_h"
      }
    },
    {
      "cell_type": "code",
      "source": [
        "# Sample input\n",
        "input_list = [10, 40, 30, 70]\n",
        "\n",
        "# Initialize an empty list to store the reversed list\n",
        "reversed_list = []\n",
        "\n",
        "# Iterate over the input list in reverse order\n",
        "for element in input_list[::-1]:\n",
        "  # Append each element to the reversed list\n",
        "  reversed_list.append(element)\n",
        "\n",
        "# Output the reversed list\n",
        "print(reversed_list)  # Output: [70, 30, 40, 10]\n"
      ],
      "metadata": {
        "colab": {
          "base_uri": "https://localhost:8080/"
        },
        "id": "ogflIV98HxRA",
        "outputId": "374979d2-51c1-46b0-8cde-1e7937df019f"
      },
      "execution_count": 36,
      "outputs": [
        {
          "output_type": "stream",
          "name": "stdout",
          "text": [
            "[70, 30, 40, 10]\n"
          ]
        }
      ]
    },
    {
      "cell_type": "markdown",
      "source": [
        "6. Write a python program to print the multiplication table of 1-10."
      ],
      "metadata": {
        "id": "00C4N5SWI5eQ"
      }
    },
    {
      "cell_type": "code",
      "source": [
        "# 6. Error 1\n",
        "\n",
        "# Print the header row\n",
        "print(\"  x 1  2  3  4  5  6  7  8  9  10\")\n",
        "print(\"----------------------------------\")\n",
        "\n",
        "# Iterate over the numbers in the table (1 to 10)\n",
        "for i in range(1, 11):\n",
        "  # Print the number being multiplied\n",
        "  print(f\"{i} | \", end='')\n",
        "\n",
        "  # Iterate over the multiples of the number (1 to 10)\n",
        "  for j in range(1, 11):\n",
        "    # Print the product of the number and the multiple\n",
        "    print(f\"{i * j:2} \", end='')\n",
        "\n",
        "  # Move to the next line after all the multiples have been printed\n",
        "  print('')"
      ],
      "metadata": {
        "colab": {
          "base_uri": "https://localhost:8080/"
        },
        "id": "mUr9T_UvI70D",
        "outputId": "9c261aa8-bf88-463d-d814-a0ecdd92e2e7"
      },
      "execution_count": 37,
      "outputs": [
        {
          "output_type": "stream",
          "name": "stdout",
          "text": [
            "  x 1  2  3  4  5  6  7  8  9  10\n",
            "----------------------------------\n",
            "1 |  1  2  3  4  5  6  7  8  9 10 \n",
            "2 |  2  4  6  8 10 12 14 16 18 20 \n",
            "3 |  3  6  9 12 15 18 21 24 27 30 \n",
            "4 |  4  8 12 16 20 24 28 32 36 40 \n",
            "5 |  5 10 15 20 25 30 35 40 45 50 \n",
            "6 |  6 12 18 24 30 36 42 48 54 60 \n",
            "7 |  7 14 21 28 35 42 49 56 63 70 \n",
            "8 |  8 16 24 32 40 48 56 64 72 80 \n",
            "9 |  9 18 27 36 45 54 63 72 81 90 \n",
            "10 | 10 20 30 40 50 60 70 80 90 100 \n"
          ]
        }
      ]
    },
    {
      "cell_type": "code",
      "source": [
        "# 6. Error 2\n",
        "\n",
        "# Print the header row\n",
        "print(\"  x  1  2  3  4  5  6  7  8  9  10\")\n",
        "print(\"-------------------------------\")\n",
        "\n",
        "# Iterate over the numbers in the table (1 to 10)\n",
        "for i in range(1, 11):\n",
        "  # Print the number being multiplied\n",
        "  print(f\"{i} | \", end='')\n",
        "\n",
        "  # Iterate over the multiples of the number (1 to 10)\n",
        "  for j in range(1, 11):\n",
        "    # Print the product of the number and the multiple, using a fixed width of 3 and right alignment\n",
        "    print(f\"{i * j:>3} \", end='')\n",
        "\n",
        "  # Move to the next line after all the multiples have been printed\n",
        "  print('')"
      ],
      "metadata": {
        "colab": {
          "base_uri": "https://localhost:8080/"
        },
        "id": "SLyyjXniJq9U",
        "outputId": "09851ffa-316f-4cae-a434-a859d65392fa"
      },
      "execution_count": 38,
      "outputs": [
        {
          "output_type": "stream",
          "name": "stdout",
          "text": [
            "  x  1  2  3  4  5  6  7  8  9  10\n",
            "-------------------------------\n",
            "1 |   1   2   3   4   5   6   7   8   9  10 \n",
            "2 |   2   4   6   8  10  12  14  16  18  20 \n",
            "3 |   3   6   9  12  15  18  21  24  27  30 \n",
            "4 |   4   8  12  16  20  24  28  32  36  40 \n",
            "5 |   5  10  15  20  25  30  35  40  45  50 \n",
            "6 |   6  12  18  24  30  36  42  48  54  60 \n",
            "7 |   7  14  21  28  35  42  49  56  63  70 \n",
            "8 |   8  16  24  32  40  48  56  64  72  80 \n",
            "9 |   9  18  27  36  45  54  63  72  81  90 \n",
            "10 |  10  20  30  40  50  60  70  80  90 100 \n"
          ]
        }
      ]
    },
    {
      "cell_type": "code",
      "source": [
        "# 6. Error 3\n",
        "\n",
        "# Print the header row\n",
        "print(\" x |  1  2  3  4  5  6  7  8  9  10\")\n",
        "print(\"---------------------------------------------\")\n",
        "\n",
        "# Iterate over the numbers in the table (1 to 10)\n",
        "for i in range(1, 11):\n",
        "  # Print the number being multiplied, using a fixed width of 2 and right alignment\n",
        "  print(f\"{i:>2} | \", end='')\n",
        "\n",
        "  # Iterate over the multiples of the number (1 to 10)\n",
        "  for j in range(1, 11):\n",
        "    # Print the product of the number and the multiple, using a fixed width of 3 and right alignment\n",
        "    print(f\"{i * j:>3} \", end='')\n",
        "\n",
        "  # Move to the next line after all the multiples have been printed\n",
        "  print('')\n"
      ],
      "metadata": {
        "colab": {
          "base_uri": "https://localhost:8080/"
        },
        "id": "S1S2Cqe7KNFo",
        "outputId": "c9790abb-4709-45b8-aaf7-118a3e20afb0"
      },
      "execution_count": 39,
      "outputs": [
        {
          "output_type": "stream",
          "name": "stdout",
          "text": [
            " x |  1  2  3  4  5  6  7  8  9  10\n",
            "---------------------------------------------\n",
            " 1 |   1   2   3   4   5   6   7   8   9  10 \n",
            " 2 |   2   4   6   8  10  12  14  16  18  20 \n",
            " 3 |   3   6   9  12  15  18  21  24  27  30 \n",
            " 4 |   4   8  12  16  20  24  28  32  36  40 \n",
            " 5 |   5  10  15  20  25  30  35  40  45  50 \n",
            " 6 |   6  12  18  24  30  36  42  48  54  60 \n",
            " 7 |   7  14  21  28  35  42  49  56  63  70 \n",
            " 8 |   8  16  24  32  40  48  56  64  72  80 \n",
            " 9 |   9  18  27  36  45  54  63  72  81  90 \n",
            "10 |  10  20  30  40  50  60  70  80  90 100 \n"
          ]
        }
      ]
    },
    {
      "cell_type": "code",
      "source": [
        "# 6. Final Output\n",
        "\n",
        "# Print the header row, using a fixed width of 3 and right alignment for each column\n",
        "print(\" x |\", end=' ')\n",
        "for i in range(1, 11):\n",
        "  print(f\"{i:>3}\", end=' ')\n",
        "print('')\n",
        "print(\"---------------------------------------------\")\n",
        "\n",
        "# Iterate over the numbers in the table (1 to 10)\n",
        "for i in range(1, 11):\n",
        "  # Print the number being multiplied, using a fixed width of 2 and right alignment\n",
        "  print(f\"{i:>2} |\", end=' ')\n",
        "\n",
        "  # Iterate over the multiples of the number (1 to 10)\n",
        "  for j in range(1, 11):\n",
        "    # Print the product of the number and the multiple, using a fixed width of 3 and right alignment\n",
        "    print(f\"{i * j:>3}\", end=' ')\n",
        "\n",
        "  # Move to the next line after all the multiples have been printed\n",
        "  print('')"
      ],
      "metadata": {
        "colab": {
          "base_uri": "https://localhost:8080/"
        },
        "id": "SGcZ18ByMlTk",
        "outputId": "3963c308-069b-433c-9ae9-e75b40060984"
      },
      "execution_count": 40,
      "outputs": [
        {
          "output_type": "stream",
          "name": "stdout",
          "text": [
            " x |   1   2   3   4   5   6   7   8   9  10 \n",
            "---------------------------------------------\n",
            " 1 |   1   2   3   4   5   6   7   8   9  10 \n",
            " 2 |   2   4   6   8  10  12  14  16  18  20 \n",
            " 3 |   3   6   9  12  15  18  21  24  27  30 \n",
            " 4 |   4   8  12  16  20  24  28  32  36  40 \n",
            " 5 |   5  10  15  20  25  30  35  40  45  50 \n",
            " 6 |   6  12  18  24  30  36  42  48  54  60 \n",
            " 7 |   7  14  21  28  35  42  49  56  63  70 \n",
            " 8 |   8  16  24  32  40  48  56  64  72  80 \n",
            " 9 |   9  18  27  36  45  54  63  72  81  90 \n",
            "10 |  10  20  30  40  50  60  70  80  90 100 \n"
          ]
        }
      ]
    },
    {
      "cell_type": "markdown",
      "source": [
        "7. Write a python program to find the sum of integers less than 25 using while loop."
      ],
      "metadata": {
        "id": "D_TJqxZGSl1o"
      }
    },
    {
      "cell_type": "code",
      "source": [
        "# Initialize a variable to keep track of the sum\n",
        "sum = 0\n",
        "\n",
        "# Initialize a variable to keep track of the current integer\n",
        "current_integer = 1\n",
        "\n",
        "# Use a while loop to iterate through all integers less than 25\n",
        "while current_integer < 25:\n",
        "  # Add the current integer to the sum\n",
        "  sum += current_integer\n",
        "\n",
        "  # Increment the current integer by 1\n",
        "  current_integer += 1\n",
        "\n",
        "# Print the sum of all integers less than 25\n",
        "print(sum)"
      ],
      "metadata": {
        "colab": {
          "base_uri": "https://localhost:8080/"
        },
        "id": "3IOBPWmOVsHQ",
        "outputId": "66517f81-1da9-4826-bb24-79c309374507"
      },
      "execution_count": 41,
      "outputs": [
        {
          "output_type": "stream",
          "name": "stdout",
          "text": [
            "300\n"
          ]
        }
      ]
    },
    {
      "cell_type": "markdown",
      "source": [
        "8. Write a python program to print the even numbers in a list of numbers."
      ],
      "metadata": {
        "id": "-Ga5bFRTW126"
      }
    },
    {
      "cell_type": "code",
      "source": [
        "# Define the list of numbers\n",
        "numbers = [1, 2, 3, 4, 5, 6, 7, 8, 9, 10]\n",
        "\n",
        "# Iterate over the numbers in the list\n",
        "for number in numbers:\n",
        "  # If the number is even, print it\n",
        "  if number % 2 == 0:\n",
        "    print(number)"
      ],
      "metadata": {
        "colab": {
          "base_uri": "https://localhost:8080/"
        },
        "id": "wRxlZ3iTXmue",
        "outputId": "e6072bda-f3f9-4b2e-85ad-f8ac19c5268d"
      },
      "execution_count": 43,
      "outputs": [
        {
          "output_type": "stream",
          "name": "stdout",
          "text": [
            "2\n",
            "4\n",
            "6\n",
            "8\n",
            "10\n"
          ]
        }
      ]
    },
    {
      "cell_type": "markdown",
      "source": [
        "9. Write a python program to find the sum of elements in a number list."
      ],
      "metadata": {
        "id": "KC85sXk-XxRi"
      }
    },
    {
      "cell_type": "code",
      "source": [
        "# Define the list of numbers\n",
        "numbers = [1, 2, 3, 4, 5, 6, 7, 8, 9, 10]\n",
        "\n",
        "# Initialize the sum to 0\n",
        "sum = 0\n",
        "\n",
        "# Iterate over the numbers in the list\n",
        "for number in numbers:\n",
        "  # Add the current number to the sum\n",
        "  sum += number\n",
        "\n",
        "# Print the sum\n",
        "print(sum)"
      ],
      "metadata": {
        "colab": {
          "base_uri": "https://localhost:8080/"
        },
        "id": "eLRB5S1CYA7i",
        "outputId": "6061a094-c12e-4d73-961a-c671f3c16714"
      },
      "execution_count": 12,
      "outputs": [
        {
          "output_type": "stream",
          "name": "stdout",
          "text": [
            "55\n"
          ]
        }
      ]
    },
    {
      "cell_type": "markdown",
      "source": [
        "10. Write a Python program to check whether a number is prime or not."
      ],
      "metadata": {
        "id": "iZ0AgvprZKXo"
      }
    },
    {
      "cell_type": "code",
      "source": [
        "import math\n",
        "\n",
        "def is_prime(n: int) -> bool:\n",
        "    if n < 2:\n",
        "        return False\n",
        "    for i in range(2, int(math.sqrt(n)) + 1):\n",
        "        if n % i == 0:\n",
        "            return False\n",
        "    return True\n",
        "\n",
        "# Test the function\n",
        "print(is_prime(2))  # True\n",
        "print(is_prime(3))  # True\n",
        "print(is_prime(4))  # False\n",
        "print(is_prime(5))  # True\n",
        "print(is_prime(6))  # False\n"
      ],
      "metadata": {
        "colab": {
          "base_uri": "https://localhost:8080/"
        },
        "id": "sZOKYIVVZNNF",
        "outputId": "7ac4c79a-49b9-4fdc-bd37-8c50fdde12ce"
      },
      "execution_count": 1,
      "outputs": [
        {
          "output_type": "stream",
          "name": "stdout",
          "text": [
            "True\n",
            "True\n",
            "False\n",
            "True\n",
            "False\n"
          ]
        }
      ]
    },
    {
      "cell_type": "code",
      "source": [
        "def is_prime(n):\n",
        "    if n < 2:\n",
        "        return False\n",
        "    for i in range(2, int(n ** 0.5) + 1):\n",
        "        if n % i == 0:\n",
        "            return False\n",
        "    return True\n",
        "\n",
        "num = int(input(\"Enter a number: \"))\n",
        "\n",
        "if is_prime(num):\n",
        "    print(f\"{num} is a prime number.\")\n",
        "else:\n",
        "    print(f\"{num} is not a prime number.\")\n"
      ],
      "metadata": {
        "colab": {
          "base_uri": "https://localhost:8080/"
        },
        "id": "MTSknJqXd6Ki",
        "outputId": "48c5a3b4-f84d-45d2-a264-543411c0ea5c"
      },
      "execution_count": 13,
      "outputs": [
        {
          "output_type": "stream",
          "name": "stdout",
          "text": [
            "Enter a number: 9\n",
            "9 is not a prime number.\n"
          ]
        }
      ]
    }
  ]
}